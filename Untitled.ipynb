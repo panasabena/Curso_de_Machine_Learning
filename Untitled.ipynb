{
 "cells": [
  {
   "cell_type": "markdown",
   "id": "1df54d03-79d8-4971-8814-5bab971f0475",
   "metadata": {},
   "source": [
    "## Regresión Lineal Múltiple\n",
    "\n",
    "<img src = 'https://latex.codecogs.com/svg.image?\\bg{red}Y&space;=&space;\\beta&space;0&space;&plus;&space;\\beta&space;1X1&space;&plus;&space;\\beta&space;2X2&space;&plus;&space;...&space;&plus;&space;\\beta&space;pXp&space;&plus;&space;\\varepsilon&space;' height = '50'>\n"
   ]
  },
  {
   "cell_type": "code",
   "execution_count": null,
   "id": "964e293e-08d2-403f-b3b3-9d9faa3d1beb",
   "metadata": {},
   "outputs": [],
   "source": []
  }
 ],
 "metadata": {
  "kernelspec": {
   "display_name": "Python 3 (ipykernel)",
   "language": "python",
   "name": "python3"
  },
  "language_info": {
   "codemirror_mode": {
    "name": "ipython",
    "version": 3
   },
   "file_extension": ".py",
   "mimetype": "text/x-python",
   "name": "python",
   "nbconvert_exporter": "python",
   "pygments_lexer": "ipython3",
   "version": "3.9.13"
  }
 },
 "nbformat": 4,
 "nbformat_minor": 5
}
